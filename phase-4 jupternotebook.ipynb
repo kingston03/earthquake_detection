{
 "cells": [
  {
   "cell_type": "code",
   "execution_count": 57,
   "id": "3b4be43d-c5fa-4f9f-8361-8ff4190ed62b",
   "metadata": {},
   "outputs": [],
   "source": [
    "import numpy as np\n",
    "import pandas as pd\n",
    "import matplotlib.pyplot as plt\n",
    "import seaborn as sb\n",
    "from sklearn.ensemble import RandomForestRegressor\n",
    "\n",
    "import warnings\n",
    "warnings.filterwarnings('ignore')"
   ]
  },
  {
   "cell_type": "code",
   "execution_count": 2,
   "id": "e69f7960-c9ac-445a-8cfa-00da726d268a",
   "metadata": {},
   "outputs": [
    {
     "data": {
      "text/plain": [
       "Index(['Date', 'Time', 'Latitude', 'Longitude', 'Type', 'Depth', 'Depth Error',\n",
       "       'Depth Seismic Stations', 'Magnitude', 'Magnitude Type',\n",
       "       'Magnitude Error', 'Magnitude Seismic Stations', 'Azimuthal Gap',\n",
       "       'Horizontal Distance', 'Horizontal Error', 'Root Mean Square', 'ID',\n",
       "       'Source', 'Location Source', 'Magnitude Source', 'Status'],\n",
       "      dtype='object')"
      ]
     },
     "execution_count": 2,
     "metadata": {},
     "output_type": "execute_result"
    }
   ],
   "source": [
    "data = pd.read_csv(\"database.csv\")\n",
    "data.columns"
   ]
  },
  {
   "cell_type": "code",
   "execution_count": 3,
   "id": "db842afd-1520-442f-a34d-b8b9d1f4c0ad",
   "metadata": {},
   "outputs": [
    {
     "data": {
      "text/plain": [
       "(23412, 21)"
      ]
     },
     "execution_count": 3,
     "metadata": {},
     "output_type": "execute_result"
    }
   ],
   "source": [
    "data.shape"
   ]
  },
  {
   "cell_type": "code",
   "execution_count": 4,
   "id": "08afa56c-9609-4451-b562-14c2c43bf05d",
   "metadata": {},
   "outputs": [
    {
     "data": {
      "text/html": [
       "<div>\n",
       "<style scoped>\n",
       "    .dataframe tbody tr th:only-of-type {\n",
       "        vertical-align: middle;\n",
       "    }\n",
       "\n",
       "    .dataframe tbody tr th {\n",
       "        vertical-align: top;\n",
       "    }\n",
       "\n",
       "    .dataframe thead th {\n",
       "        text-align: right;\n",
       "    }\n",
       "</style>\n",
       "<table border=\"1\" class=\"dataframe\">\n",
       "  <thead>\n",
       "    <tr style=\"text-align: right;\">\n",
       "      <th></th>\n",
       "      <th>Date</th>\n",
       "      <th>Time</th>\n",
       "      <th>Latitude</th>\n",
       "      <th>Longitude</th>\n",
       "      <th>Depth</th>\n",
       "      <th>Magnitude</th>\n",
       "    </tr>\n",
       "  </thead>\n",
       "  <tbody>\n",
       "    <tr>\n",
       "      <th>0</th>\n",
       "      <td>01/02/1965</td>\n",
       "      <td>13:44:18</td>\n",
       "      <td>19.246</td>\n",
       "      <td>145.616</td>\n",
       "      <td>131.6</td>\n",
       "      <td>6.0</td>\n",
       "    </tr>\n",
       "    <tr>\n",
       "      <th>1</th>\n",
       "      <td>01/04/1965</td>\n",
       "      <td>11:29:49</td>\n",
       "      <td>1.863</td>\n",
       "      <td>127.352</td>\n",
       "      <td>80.0</td>\n",
       "      <td>5.8</td>\n",
       "    </tr>\n",
       "    <tr>\n",
       "      <th>2</th>\n",
       "      <td>01/05/1965</td>\n",
       "      <td>18:05:58</td>\n",
       "      <td>-20.579</td>\n",
       "      <td>-173.972</td>\n",
       "      <td>20.0</td>\n",
       "      <td>6.2</td>\n",
       "    </tr>\n",
       "    <tr>\n",
       "      <th>3</th>\n",
       "      <td>01/08/1965</td>\n",
       "      <td>18:49:43</td>\n",
       "      <td>-59.076</td>\n",
       "      <td>-23.557</td>\n",
       "      <td>15.0</td>\n",
       "      <td>5.8</td>\n",
       "    </tr>\n",
       "    <tr>\n",
       "      <th>4</th>\n",
       "      <td>01/09/1965</td>\n",
       "      <td>13:32:50</td>\n",
       "      <td>11.938</td>\n",
       "      <td>126.427</td>\n",
       "      <td>15.0</td>\n",
       "      <td>5.8</td>\n",
       "    </tr>\n",
       "  </tbody>\n",
       "</table>\n",
       "</div>"
      ],
      "text/plain": [
       "         Date      Time  Latitude  Longitude  Depth  Magnitude\n",
       "0  01/02/1965  13:44:18    19.246    145.616  131.6        6.0\n",
       "1  01/04/1965  11:29:49     1.863    127.352   80.0        5.8\n",
       "2  01/05/1965  18:05:58   -20.579   -173.972   20.0        6.2\n",
       "3  01/08/1965  18:49:43   -59.076    -23.557   15.0        5.8\n",
       "4  01/09/1965  13:32:50    11.938    126.427   15.0        5.8"
      ]
     },
     "execution_count": 4,
     "metadata": {},
     "output_type": "execute_result"
    }
   ],
   "source": [
    "data = data[['Date', 'Time', 'Latitude', 'Longitude', 'Depth', 'Magnitude']]  \n",
    "data.head()  "
   ]
  },
  {
   "cell_type": "code",
   "execution_count": 5,
   "id": "b7cbfa15-b1a9-4b8f-9fab-9563903dfd25",
   "metadata": {},
   "outputs": [
    {
     "data": {
      "text/html": [
       "<div>\n",
       "<style scoped>\n",
       "    .dataframe tbody tr th:only-of-type {\n",
       "        vertical-align: middle;\n",
       "    }\n",
       "\n",
       "    .dataframe tbody tr th {\n",
       "        vertical-align: top;\n",
       "    }\n",
       "\n",
       "    .dataframe thead th {\n",
       "        text-align: right;\n",
       "    }\n",
       "</style>\n",
       "<table border=\"1\" class=\"dataframe\">\n",
       "  <thead>\n",
       "    <tr style=\"text-align: right;\">\n",
       "      <th></th>\n",
       "      <th>Latitude</th>\n",
       "      <th>Longitude</th>\n",
       "      <th>Depth</th>\n",
       "      <th>Magnitude</th>\n",
       "    </tr>\n",
       "  </thead>\n",
       "  <tbody>\n",
       "    <tr>\n",
       "      <th>count</th>\n",
       "      <td>23412.000000</td>\n",
       "      <td>23412.000000</td>\n",
       "      <td>23412.000000</td>\n",
       "      <td>23412.000000</td>\n",
       "    </tr>\n",
       "    <tr>\n",
       "      <th>mean</th>\n",
       "      <td>1.679033</td>\n",
       "      <td>39.639961</td>\n",
       "      <td>70.767911</td>\n",
       "      <td>5.882531</td>\n",
       "    </tr>\n",
       "    <tr>\n",
       "      <th>std</th>\n",
       "      <td>30.113183</td>\n",
       "      <td>125.511959</td>\n",
       "      <td>122.651898</td>\n",
       "      <td>0.423066</td>\n",
       "    </tr>\n",
       "    <tr>\n",
       "      <th>min</th>\n",
       "      <td>-77.080000</td>\n",
       "      <td>-179.997000</td>\n",
       "      <td>-1.100000</td>\n",
       "      <td>5.500000</td>\n",
       "    </tr>\n",
       "    <tr>\n",
       "      <th>25%</th>\n",
       "      <td>-18.653000</td>\n",
       "      <td>-76.349750</td>\n",
       "      <td>14.522500</td>\n",
       "      <td>5.600000</td>\n",
       "    </tr>\n",
       "    <tr>\n",
       "      <th>50%</th>\n",
       "      <td>-3.568500</td>\n",
       "      <td>103.982000</td>\n",
       "      <td>33.000000</td>\n",
       "      <td>5.700000</td>\n",
       "    </tr>\n",
       "    <tr>\n",
       "      <th>75%</th>\n",
       "      <td>26.190750</td>\n",
       "      <td>145.026250</td>\n",
       "      <td>54.000000</td>\n",
       "      <td>6.000000</td>\n",
       "    </tr>\n",
       "    <tr>\n",
       "      <th>max</th>\n",
       "      <td>86.005000</td>\n",
       "      <td>179.998000</td>\n",
       "      <td>700.000000</td>\n",
       "      <td>9.100000</td>\n",
       "    </tr>\n",
       "  </tbody>\n",
       "</table>\n",
       "</div>"
      ],
      "text/plain": [
       "           Latitude     Longitude         Depth     Magnitude\n",
       "count  23412.000000  23412.000000  23412.000000  23412.000000\n",
       "mean       1.679033     39.639961     70.767911      5.882531\n",
       "std       30.113183    125.511959    122.651898      0.423066\n",
       "min      -77.080000   -179.997000     -1.100000      5.500000\n",
       "25%      -18.653000    -76.349750     14.522500      5.600000\n",
       "50%       -3.568500    103.982000     33.000000      5.700000\n",
       "75%       26.190750    145.026250     54.000000      6.000000\n",
       "max       86.005000    179.998000    700.000000      9.100000"
      ]
     },
     "execution_count": 5,
     "metadata": {},
     "output_type": "execute_result"
    }
   ],
   "source": [
    "data.describe()"
   ]
  },
  {
   "cell_type": "code",
   "execution_count": 95,
   "id": "c1c1197e-332b-4fca-96d8-d24c48c25fd9",
   "metadata": {},
   "outputs": [
    {
     "data": {
      "text/html": [
       "<div>\n",
       "<style scoped>\n",
       "    .dataframe tbody tr th:only-of-type {\n",
       "        vertical-align: middle;\n",
       "    }\n",
       "\n",
       "    .dataframe tbody tr th {\n",
       "        vertical-align: top;\n",
       "    }\n",
       "\n",
       "    .dataframe thead th {\n",
       "        text-align: right;\n",
       "    }\n",
       "</style>\n",
       "<table border=\"1\" class=\"dataframe\">\n",
       "  <thead>\n",
       "    <tr style=\"text-align: right;\">\n",
       "      <th></th>\n",
       "      <th>Latitude</th>\n",
       "      <th>Longitude</th>\n",
       "      <th>Depth</th>\n",
       "      <th>Magnitude</th>\n",
       "      <th>Timestamp</th>\n",
       "    </tr>\n",
       "  </thead>\n",
       "  <tbody>\n",
       "  </tbody>\n",
       "</table>\n",
       "</div>"
      ],
      "text/plain": [
       "Empty DataFrame\n",
       "Columns: [Latitude, Longitude, Depth, Magnitude, Timestamp]\n",
       "Index: []"
      ]
     },
     "execution_count": 95,
     "metadata": {},
     "output_type": "execute_result"
    }
   ],
   "source": [
    "import datetime\n",
    "import time\n",
    "\n",
    "timestamp = []\n",
    "for d, t in zip(data['Date'], data['Time']):\n",
    "    try:\n",
    "        ts = datetime.datetime.strptime(d+t+'', '%m/%d/%Y %H:%M:%S')\n",
    "        timestamp.append(time.mktime(ts.timetuple()))\n",
    "    except ValueError:\n",
    "        # print('ValueError')\n",
    "         timestamp.append('ValueError')\n",
    "timeStamp = pd.Series(timestamp)\n",
    "data['Timestamp'] = timeStamp.values\n",
    "final_data = data.drop(['Date', 'Time'], axis=1)\n",
    "final_data = final_data[final_data.Timestamp != 'ValueError']\n",
    "final_data.head()\n"
   ]
  },
  {
   "cell_type": "code",
   "execution_count": 7,
   "id": "8cfc043d-df46-4f1a-ba57-1c8d725220cf",
   "metadata": {},
   "outputs": [],
   "source": [
    "X = final_data[['Timestamp', 'Latitude', 'Longitude']]  \n",
    "y = final_data[['Magnitude', 'Depth']]  "
   ]
  },
  {
   "cell_type": "code",
   "execution_count": null,
   "id": "e3d78826-e0b1-47c3-9cb8-b0855016401d",
   "metadata": {},
   "outputs": [],
   "source": []
  },
  {
   "cell_type": "code",
   "execution_count": 29,
   "id": "403cbb93-d35b-4be4-8a1e-681de99fe9b6",
   "metadata": {},
   "outputs": [],
   "source": [
    "from sklearn import datasets\n",
    "\n",
    "X, y = datasets.load_iris(return_X_y=True)"
   ]
  },
  {
   "cell_type": "code",
   "execution_count": 30,
   "id": "9e9a9f3c-2440-47b6-8bc0-1a0e7f2adad4",
   "metadata": {},
   "outputs": [],
   "source": [
    "from sklearn.tree import DecisionTreeClassifier\n",
    "from sklearn.model_selection import KFold, cross_val_score"
   ]
  },
  {
   "cell_type": "code",
   "execution_count": 31,
   "id": "cc94e1e5-bb79-48d5-b6b5-c8e037d2fc89",
   "metadata": {},
   "outputs": [],
   "source": [
    "clf = DecisionTreeClassifier(random_state=42)"
   ]
  },
  {
   "cell_type": "code",
   "execution_count": 32,
   "id": "8d2cfe26-beff-47d4-b60b-2e6957e28676",
   "metadata": {},
   "outputs": [],
   "source": [
    "k_folds = KFold(n_splits = 5)\n",
    "\n",
    "scores = cross_val_score(clf, X, y, cv = k_folds)"
   ]
  },
  {
   "cell_type": "code",
   "execution_count": 105,
   "id": "145be566-972d-4682-967f-12e6e4c4adfa",
   "metadata": {},
   "outputs": [
    {
     "name": "stdout",
     "output_type": "stream",
     "text": [
      "Cross Validation Scores:  [1.         1.         0.83333333 0.93333333 0.8       ]\n",
      "Average CV Score:  0.9133333333333333\n",
      "Number of CV Scores used in Average:  5\n"
     ]
    }
   ],
   "source": [
    "#testing \n",
    "from sklearn import datasets\n",
    "from sklearn.tree import DecisionTreeClassifier\n",
    "from sklearn.model_selection import KFold, cross_val_score\n",
    "\n",
    "X, y = datasets.load_iris(return_X_y=True)\n",
    "\n",
    "clf = DecisionTreeClassifier(random_state=42)\n",
    "\n",
    "k_folds = KFold(n_splits = 5)\n",
    "\n",
    "scores = cross_val_score(clf, X, y, cv = k_folds)\n",
    "\n",
    "print(\"Cross Validation Scores: \", scores)\n",
    "print(\"Average CV Score: \", scores.mean())\n",
    "print(\"Number of CV Scores used in Average: \", len(scores))\n"
   ]
  },
  {
   "cell_type": "code",
   "execution_count": 98,
   "id": "4a0bc418-9e2a-4852-95dc-471e0e7812a5",
   "metadata": {},
   "outputs": [
    {
     "name": "stdout",
     "output_type": "stream",
     "text": [
      "(89, 4) (23, 4) (89,) (23, 4)\n"
     ]
    }
   ],
   "source": [
    "X_train, X_test, y_train, y_test = train_test_split(X_train, y_train, test_size=0.2, random_state=42)  \n",
    "print(X_train.shape, X_test.shape, y_train.shape, X_test.shape)  "
   ]
  },
  {
   "cell_type": "code",
   "execution_count": 86,
   "id": "80f390a5-403f-4582-9f47-509d10e998b4",
   "metadata": {},
   "outputs": [
    {
     "data": {
      "text/plain": [
       "array([0.  , 1.  , 1.  , 0.  , 2.  , 1.11, 1.99, 0.  , 0.  , 2.  , 1.  ,\n",
       "       0.  , 2.  , 1.  , 1.  , 0.  , 1.  , 1.  , 0.  , 0.  , 1.  , 1.  ,\n",
       "       1.99, 0.  , 2.  , 1.  , 0.  , 0.  , 1.  , 1.96, 1.  , 2.  , 1.  ,\n",
       "       2.  , 1.99, 0.  , 1.  , 0.  ])"
      ]
     },
     "execution_count": 86,
     "metadata": {},
     "output_type": "execute_result"
    }
   ],
   "source": [
    "reg = RandomForestRegressor(random_state=42)  \n",
    "reg.fit(X_train, y_train)  \n",
    "reg.predict(X_test)  "
   ]
  },
  {
   "cell_type": "code",
   "execution_count": null,
   "id": "8b0741af-d92f-4c81-af26-1daecc5d3d25",
   "metadata": {},
   "outputs": [],
   "source": [
    "py -m pip install RandomForestRegressor"
   ]
  },
  {
   "cell_type": "code",
   "execution_count": null,
   "id": "cf04f1e1-b904-4e2d-b5cf-46cf5fea832c",
   "metadata": {},
   "outputs": [],
   "source": [
    "pip install sklearn"
   ]
  },
  {
   "cell_type": "code",
   "execution_count": 36,
   "id": "d66d72cc-ea50-4f27-bb94-31037b1def2a",
   "metadata": {},
   "outputs": [
    {
     "data": {
      "text/plain": [
       "array([1.  , 0.  , 2.  , 1.  , 1.16, 0.  , 1.  , 1.98, 1.09, 1.  , 1.98,\n",
       "       0.  , 0.  , 0.  , 0.  , 1.02, 2.  , 1.  , 1.  , 2.  , 0.  , 1.92,\n",
       "       0.  , 2.  , 2.  , 1.99, 1.99, 2.  , 0.  , 0.  ])"
      ]
     },
     "execution_count": 36,
     "metadata": {},
     "output_type": "execute_result"
    }
   ],
   "source": [
    "reg = RandomForestRegressor(random_state=42)  \n",
    "reg.fit(X_train, y_train)  \n",
    "reg.predict(X_test)  "
   ]
  },
  {
   "cell_type": "code",
   "execution_count": null,
   "id": "5adb86e6-f12f-4638-b6f0-9a7da28053b1",
   "metadata": {},
   "outputs": [],
   "source": [
    "pip install  RandomForestRegressor"
   ]
  },
  {
   "cell_type": "code",
   "execution_count": null,
   "id": "93ca561e-7119-40f3-82cd-d18f242736f3",
   "metadata": {},
   "outputs": [],
   "source": [
    "pip install yfinance"
   ]
  },
  {
   "cell_type": "code",
   "execution_count": 47,
   "id": "b4ae3a0b-10f3-4da9-9d0b-6bdba7082bdf",
   "metadata": {},
   "outputs": [
    {
     "data": {
      "text/plain": [
       "array([1.  , 0.  , 2.  , 1.  , 1.16, 0.  , 1.  , 1.98, 1.09, 1.  , 1.98,\n",
       "       0.  , 0.  , 0.  , 0.  , 1.02, 2.  , 1.  , 1.  , 2.  , 0.  , 1.92,\n",
       "       0.  , 2.  , 2.  , 1.99, 1.99, 2.  , 0.  , 0.  ])"
      ]
     },
     "execution_count": 47,
     "metadata": {},
     "output_type": "execute_result"
    }
   ],
   "source": [
    "reg = RandomForestRegressor(random_state=42)  \n",
    "reg.fit(X_train, y_train)  \n",
    "reg.predict(X_test)  "
   ]
  },
  {
   "cell_type": "code",
   "execution_count": 102,
   "id": "30504cfb-6a27-44b8-9fa8-0f10ea8ea7b6",
   "metadata": {},
   "outputs": [
    {
     "data": {
      "text/plain": [
       "0.9999625"
      ]
     },
     "execution_count": 102,
     "metadata": {},
     "output_type": "execute_result"
    }
   ],
   "source": [
    "#testing the model\n",
    "reg.score(X_test, y_test)  \n"
   ]
  },
  {
   "cell_type": "code",
   "execution_count": 37,
   "id": "26222df3-6a07-4abd-9c78-1436382bc924",
   "metadata": {},
   "outputs": [
    {
     "data": {
      "text/plain": [
       "array([1. , 0. , 2. , 1. , 1.1, 0. , 1. , 2. , 1. , 1. , 2. , 0. , 0. ,\n",
       "       0. , 0. , 1. , 2. , 1. , 1. , 2. , 0. , 1.9, 0. , 2. , 2. , 2. ,\n",
       "       2. , 2. , 0. , 0. ])"
      ]
     },
     "execution_count": 37,
     "metadata": {},
     "output_type": "execute_result"
    }
   ],
   "source": [
    "from sklearn.model_selection import GridSearchCV  \n",
    "  \n",
    "parameters = {'n_estimators':[10, 20, 50, 100, 200, 500]}  \n",
    "  \n",
    "grid_obj = GridSearchCV(reg, parameters)  \n",
    "grid_fit = grid_obj.fit(X_train, y_train)  \n",
    "best_fit = grid_fit.best_estimator_  \n",
    "best_fit.predict(X_test)  "
   ]
  },
  {
   "cell_type": "code",
   "execution_count": 106,
   "id": "591952bb-70a8-40ff-9af3-7763e5521d77",
   "metadata": {},
   "outputs": [
    {
     "data": {
      "text/plain": [
       "0.995"
      ]
     },
     "execution_count": 106,
     "metadata": {},
     "output_type": "execute_result"
    }
   ],
   "source": [
    "#accuracy\n",
    "best_fit.score(X_test, y_test)  "
   ]
  },
  {
   "cell_type": "code",
   "execution_count": 103,
   "id": "ae7b1228-78d9-4208-99e1-f3abb1103f61",
   "metadata": {},
   "outputs": [],
   "source": [
    "#neural model\n",
    "from keras.models import Sequential  \n",
    "from keras.layers import Dense  \n",
    "  \n",
    "def create_model(neurons, activation, optimizer, loss):  \n",
    "    model = Sequential()  \n",
    "    model.add(Dense(neurons, activation=activation, input_shape=(3,)))  \n",
    "    model.add(Dense(neurons, activation=activation))  \n",
    "    model.add(Dense(2, activation='softmax'))  \n",
    "      \n",
    "    model.compile(optimizer=optimizer, loss=loss, metrics=['accuracy'])  \n",
    "      \n",
    "    return model  "
   ]
  },
  {
   "cell_type": "code",
   "execution_count": 104,
   "id": "c293fedb-e192-44a6-ab70-a765173bc4c2",
   "metadata": {},
   "outputs": [],
   "source": [
    "from keras.wrappers.scikit_learn import KerasClassifier  \n",
    "  \n",
    "model = KerasClassifier(build_fn=create_model, verbose=0)  \n",
    "  \n",
    "# neurons = [16, 64, 128, 256]  \n",
    "neurons = [16]  \n",
    "# batch_size = [10, 20, 50, 100]  \n",
    "batch_size = [10]  \n",
    "epochs = [10]  \n",
    "# activation = ['relu', 'tanh', 'sigmoid', 'hard_sigmoid', 'linear', 'exponential']  \n",
    "activation = ['sigmoid', 'relu']  \n",
    "# optimizer = ['SGD', 'RMSprop', 'Adagrad', 'Adadelta', 'Adam', 'Adamax', 'Nadam']  \n",
    "optimizer = ['SGD', 'Adadelta']  \n",
    "loss = ['squared_hinge']  \n",
    "  \n",
    "param_grid = dict(neurons=neurons, batch_size=batch_size, epochs=epochs, activation=activation, optimizer=optimizer, loss=loss)  "
   ]
  },
  {
   "cell_type": "code",
   "execution_count": null,
   "id": "9b58db5c-60a3-4cfb-adf9-07af5969f203",
   "metadata": {},
   "outputs": [],
   "source": [
    "pip install keras"
   ]
  },
  {
   "cell_type": "code",
   "execution_count": null,
   "id": "0559cc6e-5811-4730-8603-a6f750355e16",
   "metadata": {},
   "outputs": [],
   "source": [
    "pip install keras==2.12.0"
   ]
  },
  {
   "cell_type": "code",
   "execution_count": null,
   "id": "3c336db7-ccff-4270-a95c-4d726fca94a3",
   "metadata": {},
   "outputs": [],
   "source": [
    "pip uninstall tensorflow\n",
    "pip install tensorflow==2.12.0\n"
   ]
  },
  {
   "cell_type": "code",
   "execution_count": null,
   "id": "4b5dc6b7-0072-4b54-8b3d-4ec3ba301066",
   "metadata": {},
   "outputs": [],
   "source": [
    "pip install tensorflow==2.12.0"
   ]
  },
  {
   "cell_type": "code",
   "execution_count": null,
   "id": "97721789-26b6-4287-b825-3d9424865a4f",
   "metadata": {},
   "outputs": [],
   "source": [
    "grid = GridSearchCV(estimator=model, param_grid=param_grid, n_jobs=-1)  \n",
    "grid_result = grid.fit(X_train, y_train)  \n",
    "  \n",
    "print(\"Best: %f using %s\" % (grid_result.best_score_, grid_result.best_params_))  \n",
    "means = grid_result.CV_results_['mean_test_score']  \n",
    "stds = grid_result.CV_results_['std_test_score']  \n",
    "params = grid_result.CV_results_['params']  \n",
    "for mean, stdev, param in zip(means, stds, params):  \n",
    "    print(\"%f (%f) with: %r\" % (mean, stdev, param))  "
   ]
  },
  {
   "cell_type": "code",
   "execution_count": 58,
   "id": "ea9bb8c7-0f4a-444c-a71c-7d7733601f43",
   "metadata": {},
   "outputs": [],
   "source": [
    "from sklearn.model_selection import GridSearchCV"
   ]
  },
  {
   "cell_type": "code",
   "execution_count": 60,
   "id": "84a684cd-9e68-4bd7-b725-cb298b48edfb",
   "metadata": {},
   "outputs": [],
   "source": [
    "model = Sequential()  \n",
    "model.add(Dense(16, activation='relu', input_shape=(3,)))  \n",
    "model.add(Dense(16, activation='relu'))  \n",
    "model.add(Dense(2, activation='softmax'))  \n",
    "  \n",
    "model.compile(optimizer='SGD', loss='squared_hinge', metrics=['accuracy'])  "
   ]
  },
  {
   "cell_type": "code",
   "execution_count": 72,
   "id": "362d20a3-4782-4a84-a29b-31f0e88891cc",
   "metadata": {},
   "outputs": [
    {
     "data": {
      "text/plain": [
       "array([1. , 0. , 2. , 1. , 1.1, 0. , 1. , 2. , 1. , 1. , 2. , 0. , 0. ,\n",
       "       0. , 0. , 1. , 2. , 1. , 1. , 2. , 0. , 1.9, 0. , 2. , 2. , 2. ,\n",
       "       2. , 2. , 0. , 0. ])"
      ]
     },
     "execution_count": 72,
     "metadata": {},
     "output_type": "execute_result"
    }
   ],
   "source": [
    "from sklearn.model_selection import GridSearchCV  \n",
    "  \n",
    "parameters = {'n_estimators':[10, 20, 50, 100, 200, 500]}  \n",
    "  \n",
    "grid_obj = GridSearchCV(reg, parameters)  \n",
    "grid_fit = grid_obj.fit(X_train, y_train)  \n",
    "best_fit = grid_fit.best_estimator_  \n",
    "best_fit.predict(X_test)  "
   ]
  },
  {
   "cell_type": "code",
   "execution_count": 71,
   "id": "3b917e08-695d-4dba-91d1-bf236fdf066e",
   "metadata": {},
   "outputs": [
    {
     "data": {
      "text/plain": [
       "0.9990461049284579"
      ]
     },
     "execution_count": 71,
     "metadata": {},
     "output_type": "execute_result"
    }
   ],
   "source": [
    "#model testing\n",
    "best_fit.score(X_test, y_test)  "
   ]
  }
 ],
 "metadata": {
  "kernelspec": {
   "display_name": "Python 3 (ipykernel)",
   "language": "python",
   "name": "python3"
  },
  "language_info": {
   "codemirror_mode": {
    "name": "ipython",
    "version": 3
   },
   "file_extension": ".py",
   "mimetype": "text/x-python",
   "name": "python",
   "nbconvert_exporter": "python",
   "pygments_lexer": "ipython3",
   "version": "3.10.2"
  }
 },
 "nbformat": 4,
 "nbformat_minor": 5
}
